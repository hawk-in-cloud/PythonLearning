{
  "nbformat": 4,
  "nbformat_minor": 0,
  "metadata": {
    "colab": {
      "provenance": [],
      "authorship_tag": "ABX9TyMwJD8jCOXOJqR4fvHPa/DP",
      "include_colab_link": true
    },
    "kernelspec": {
      "name": "python3",
      "display_name": "Python 3"
    },
    "language_info": {
      "name": "python"
    }
  },
  "cells": [
    {
      "cell_type": "markdown",
      "metadata": {
        "id": "view-in-github",
        "colab_type": "text"
      },
      "source": [
        "<a href=\"https://colab.research.google.com/github/hawk-in-cloud/PythonLearning/blob/main/Numpy/NumpyLearning.ipynb\" target=\"_parent\"><img src=\"https://colab.research.google.com/assets/colab-badge.svg\" alt=\"Open In Colab\"/></a>"
      ]
    },
    {
      "cell_type": "markdown",
      "source": [
        "## 关于numpy的学习"
      ],
      "metadata": {
        "id": "jAgTCJxbksw7"
      }
    },
    {
      "cell_type": "code",
      "execution_count": null,
      "metadata": {
        "colab": {
          "base_uri": "https://localhost:8080/"
        },
        "id": "pQH7zfpZknai",
        "outputId": "5392ad1f-9a2a-4e59-e869-c078be13f079"
      },
      "outputs": [
        {
          "output_type": "execute_result",
          "data": {
            "text/plain": [
              "(array([1, 2, 3, 4, 5]),\n",
              " array([[0., 0.],\n",
              "        [0., 0.],\n",
              "        [0., 0.]]))"
            ]
          },
          "metadata": {},
          "execution_count": 5
        }
      ],
      "source": [
        "# 关于np：提供一个特殊的矩阵数组\n",
        "\n",
        "# 通过实例来讲解np：\n",
        "\n",
        "## np的所有计算均围绕np.array()来进行\n",
        "\n",
        "import numpy as np\n",
        "\n",
        "a = np.array([1,2,3,4,5])\n",
        "\n",
        "b = np.zeros((3,2)) # 创造全零矩阵数组\n",
        "\n",
        "a,b"
      ]
    },
    {
      "cell_type": "code",
      "source": [
        "## 获取数组尺寸\n",
        "\n",
        "a.shape,b.shape"
      ],
      "metadata": {
        "colab": {
          "base_uri": "https://localhost:8080/"
        },
        "id": "65FR1WUjlvlH",
        "outputId": "d7d8c4f1-455a-480f-caa5-f28a2e23a223"
      },
      "execution_count": null,
      "outputs": [
        {
          "output_type": "execute_result",
          "data": {
            "text/plain": [
              "((5,), (3, 2))"
            ]
          },
          "metadata": {},
          "execution_count": 8
        }
      ]
    },
    {
      "cell_type": "code",
      "source": [
        "## 递增数组\n",
        "c = np.arange(3,7)\n",
        "d = np.arange(8,1)\n",
        "c,d"
      ],
      "metadata": {
        "colab": {
          "base_uri": "https://localhost:8080/"
        },
        "id": "cFC3iK5zmCLb",
        "outputId": "191f988e-5e4b-4f36-e3fb-0a9259215e85"
      },
      "execution_count": null,
      "outputs": [
        {
          "output_type": "execute_result",
          "data": {
            "text/plain": [
              "(array([3, 4, 5, 6]), array([], dtype=int64))"
            ]
          },
          "metadata": {},
          "execution_count": 15
        }
      ]
    },
    {
      "cell_type": "code",
      "source": [
        "e = np.random.rand(3,4,2)\n",
        "e"
      ],
      "metadata": {
        "colab": {
          "base_uri": "https://localhost:8080/"
        },
        "id": "tQo6sSGDmCZC",
        "outputId": "1fd7f5ff-0618-4a30-c0de-46505a4db14e"
      },
      "execution_count": null,
      "outputs": [
        {
          "output_type": "execute_result",
          "data": {
            "text/plain": [
              "array([[[0.92805372, 0.09120496],\n",
              "        [0.27619739, 0.61856266],\n",
              "        [0.23451614, 0.12005294],\n",
              "        [0.2829665 , 0.48208777]],\n",
              "\n",
              "       [[0.06647437, 0.28855748],\n",
              "        [0.69393063, 0.23861124],\n",
              "        [0.07003847, 0.12577642],\n",
              "        [0.22224596, 0.2526562 ]],\n",
              "\n",
              "       [[0.96381539, 0.85027152],\n",
              "        [0.63948566, 0.98274311],\n",
              "        [0.19069686, 0.57339129],\n",
              "        [0.36358408, 0.9344702 ]]])"
            ]
          },
          "metadata": {},
          "execution_count": 18
        }
      ]
    },
    {
      "cell_type": "code",
      "source": [
        "# 基本运算\n",
        "a = np.array([[1,2],[3,4]], dtype=np.int64)\n",
        "\n",
        "b = np.array([[3,4],[2,1]], dtype=np.int64)\n",
        "\n",
        "#基本加减乘除\n",
        "print(\"a+b=\\n\",a+b)\n",
        "print(\"a-b=\\n\",a-b)\n",
        "print(\"a/b=\\n\",a/b)\n",
        "print(\"a*b=\\n\",a*b)\n",
        "\n",
        "#点乘/矩阵乘法\n",
        "print(\"ab点乘=\\n\",np.dot(a,b))\n",
        "print(\"ab矩阵乘法=\\n\",a @ b)"
      ],
      "metadata": {
        "colab": {
          "base_uri": "https://localhost:8080/"
        },
        "id": "-4I3jZIAmCld",
        "outputId": "91a77d77-bd6b-469a-e629-3578ddaac87a"
      },
      "execution_count": null,
      "outputs": [
        {
          "output_type": "stream",
          "name": "stdout",
          "text": [
            "a+b=\n",
            " [[4 6]\n",
            " [5 5]]\n",
            "a-b=\n",
            " [[-2 -2]\n",
            " [ 1  3]]\n",
            "a/b=\n",
            " [[0.33333333 0.5       ]\n",
            " [1.5        4.        ]]\n",
            "a*b=\n",
            " [[3 8]\n",
            " [6 4]]\n",
            "ab点乘=\n",
            " [[ 7  6]\n",
            " [17 16]]\n",
            "ab矩阵乘法=\n",
            " [[ 7  6]\n",
            " [17 16]]\n"
          ]
        }
      ]
    },
    {
      "cell_type": "code",
      "source": [
        "# 关于标准差、均值、方差\n",
        "\n",
        "f = np.random.rand(3,4,3) #生成1个3*4*3的数组\n",
        "mean = np.mean(f) #求f数组的所有单位的均值\n",
        "mean1 = np.mean(f, axis=-1)#求f数组的最后一维的均值\n",
        "mean2 = np.mean(f, axis=-1, keepdims=True)#求f数组的最后一维的均值,不会因为求均值而降维\n",
        "#print(\"f = \" , f)\n",
        "#print(\"mean = \" , mean)\n",
        "#print(\"mean1 = \" , mean1)\n",
        "#print(\"mean2 = \" , mean2)\n",
        "\n",
        "#方差/标准差也是类似\n",
        "var = np.var(f, axis=-1, keepdims=True)\n",
        "std = np.std(f, axis=-1, keepdims=True)\n",
        "var,std"
      ],
      "metadata": {
        "colab": {
          "base_uri": "https://localhost:8080/"
        },
        "collapsed": true,
        "id": "tsY0vsxvmC1S",
        "outputId": "b3affce1-51e3-4371-e392-4aa7f024af8a"
      },
      "execution_count": null,
      "outputs": [
        {
          "output_type": "execute_result",
          "data": {
            "text/plain": [
              "(array([[[0.05595181],\n",
              "         [0.06146282],\n",
              "         [0.00751902],\n",
              "         [0.04905921]],\n",
              " \n",
              "        [[0.03092912],\n",
              "         [0.03608239],\n",
              "         [0.05351458],\n",
              "         [0.01285094]],\n",
              " \n",
              "        [[0.05225308],\n",
              "         [0.00806962],\n",
              "         [0.12760574],\n",
              "         [0.0212285 ]]]),\n",
              " array([[[0.23654134],\n",
              "         [0.24791697],\n",
              "         [0.08671228],\n",
              "         [0.22149315]],\n",
              " \n",
              "        [[0.17586678],\n",
              "         [0.18995366],\n",
              "         [0.23133218],\n",
              "         [0.113362  ]],\n",
              " \n",
              "        [[0.22858933],\n",
              "         [0.08983104],\n",
              "         [0.35721946],\n",
              "         [0.14570002]]]))"
            ]
          },
          "metadata": {},
          "execution_count": 37
        }
      ]
    },
    {
      "cell_type": "code",
      "source": [],
      "metadata": {
        "id": "VPgmv86G1lom"
      },
      "execution_count": null,
      "outputs": []
    }
  ]
}